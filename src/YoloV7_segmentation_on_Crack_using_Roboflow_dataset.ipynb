

{



  "nbformat_minor": 0,
  "metadata": {
    "colab": {
      "provenance": [],
      "collapsed_sections": [],
      "mount_file_id": "1MkENVhYdSOtbbZd25m8JjlVE3kdiMR2O",
      "authorship_tag": "ABX9TyOpYswGV0gJP/Vpp9sl31Bc",
      "include_colab_link": true
    },
    "kernelspec": {
      "name": "python3",
      "display_name": "Python 3"
    },
    "language_info": {
      "name": "python"
    },
    "accelerator": "GPU"
  },
  "cells": [
    {
      "cell_type": "markdown",
      "metadata": {
        "id": "view-in-github",
        "colab_type": "text"
      },
      "source": [
        "<a href=\"https://colab.research.google.com/github/Joe-KI333/YoloV7-Segmentation-On-Custom-Dataset/blob/main/YoloV7_segmentation_on_Crack_using_Roboflow_dataset.ipynb\" target=\"_parent\"><img src=\"https://colab.research.google.com/assets/colab-badge.svg\" alt=\"Open In Colab\"/></a>"
      ]
    },
    {
      "cell_type": "code",
      "execution_count": 1,
      "metadata": {
        "colab": {
          "base_uri": "https://localhost:8080/"
        },
        "id": "4M4wBrznzUN9",
        "outputId": "b6269fad-8832-46a5-f930-75334a66e654"
      },
      "outputs": [
        {
          "output_type": "stream",
          "name": "stdout",
          "text": [
            "Cloning into 'yolov7-segmentation'...\n",
            "remote: Enumerating objects: 336, done.\u001b[K\n",
            "remote: Counting objects: 100% (206/206), done.\u001b[K\n",
            "remote: Compressing objects: 100% (160/160), done.\u001b[K\n",
            "remote: Total 336 (delta 106), reused 116 (delta 45), pack-reused 130\u001b[K\n",
            "Receiving objects: 100% (336/336), 4.95 MiB | 14.65 MiB/s, done.\n",
            "Resolving deltas: 100% (160/160), done.\n"
          ]
        }
      ],
      "source": [
        "!git clone https://github.com/RizwanMunawar/yolov7-segmentation.git"
      ]
    },
    {
      "cell_type": "code",
      "source": [
        "%cd yolov7-segmentation"
      ],
      "metadata": {
        "id": "-g-CABclzcUu"
      },
      "execution_count": null,
      "outputs": []
    },
    {
      "cell_type": "code",
      "source": [
        "!pip install -r requirements.txt"
      ],
      "metadata": {
        "id": "JgpHMNOOzgD5"
      },
      "execution_count": null,
      "outputs": []
    },
    {
      "cell_type": "code",
      "source": [
        "%cd /content/yolov7-segmentation/data"
      ],
      "metadata": {
        "colab": {
          "base_uri": "https://localhost:8080/"
        },
        "id": "NBYYOtIcecmP",
        "outputId": "265569aa-de60-4329-9f9b-b8d77ac43e02"
      },
      "execution_count": 4,
      "outputs": [
        {
          "output_type": "stream",
          "name": "stdout",
          "text": [
            "/content/yolov7-segmentation/data\n"
          ]
        }
      ]
    },
    {
      "cell_type": "code",
      "source": [
        "!pip install roboflow\n",
        "\n",
        "\n",
        "dataset = project.version(1).download(\"yolov7\")"
      ],
      "metadata": {
        "id": "1Xq0hrx10XVt"
      },
      "execution_count": null,
      "outputs": []
    },
    {
      "cell_type": "code",
      "source": [
        "%cd /content/yolov7-segmentation"
      ],
      "metadata": {
        "colab": {
          "base_uri": "https://localhost:8080/"
        },
        "id": "-dUtM4BPfnU0",
        "outputId": "c0ce7c8f-e9b1-4dc6-eda9-a1f469ec227a"
      },
      "execution_count": 6,
      "outputs": [
        {
          "output_type": "stream",
          "name": "stdout",
          "text": [
            "/content/yolov7-segmentation\n"
          ]
        }
      ]
    },
    {
      "cell_type": "code",
      "source": [
        "!wget https://github.com/WongKinYiu/yolov7/releases/download/v0.1/yolov7-seg.pt"
      ],
      "metadata": {
        "id": "WHptIwVo2QsA"
      },
      "execution_count": null,
      "outputs": []
    },
    {
      "cell_type": "code",
      "source": [
        "!python /content/yolov7-segmentation/segment/train.py --data /content/yolov7-segmentation/data/crack-1/data.yaml --batch 4 --weights /content/yolov7-segmentation/yolov7-seg.pt --cfg /content/yolov7-segmentation/models/segment/yolov7-seg.yaml --epochs 30 --name yolov7-seg --img 640 --hyp /content/yolov7-segmentation/data/hyps/hyp.scratch-high.yaml"
      ],
      "metadata": {
        "id": "0pkzbdJA1HGj"
      },
      "execution_count": null,
      "outputs": []
    },
    {
      "cell_type": "code",
      "source": [
        "!python segment/predict.py --weights \"/content/yolov7-segmentation/runs/train-seg/yolov7-seg2/weights/best.pt\" --source \"/content/yolov7-segmentation/data/crack-1/test/images/1716.rf.d09a8b8faf26415dfd3e1b3127fdd5dc.jpg\"\n"
      ],
      "metadata": {
        "id": "qXCA4d-2WsQv"
      },
      "execution_count": null,
      "outputs": []
    },
    {
      "cell_type": "code",
      "source": [
        "!python segment/predict.py --weights \"/content/yolov7-segmentation/runs/train-seg/yolov7-seg2/weights/best.pt\" --source \"/content/yolov7-segmentation/crack.mp4\"\n"
      ],
      "metadata": {
        "id": "7my1FUZ2_00-"
      },
      "execution_count": null,
      "outputs": []
    }
  ]
}
